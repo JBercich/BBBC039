{
 "cells": [
  {
   "cell_type": "markdown",
   "metadata": {},
   "source": [
    "# BBBC039 Preprocessing Analysis\n"
   ]
  },
  {
   "cell_type": "markdown",
   "metadata": {},
   "source": [
    "Analysis of the preprocessing pipeline for the BBBC039 dataset following dataset setup and partitioning. This will implement, evaluate and visualise the main steps during this pipeline and show different comparisons for reference. Preprocessing functions take input image and label filepaths to then write new image and label files in a new directory.\n"
   ]
  },
  {
   "cell_type": "code",
   "execution_count": null,
   "metadata": {},
   "outputs": [],
   "source": [
    "import warnings\n",
    "from pathlib import Path\n",
    "from PIL import Image\n",
    "\n",
    "import cv2\n",
    "import matplotlib as mpl\n",
    "import matplotlib.pyplot as plt\n",
    "import numpy as np\n",
    "import numpy.typing as npt\n",
    "import pandas as pd\n",
    "import seaborn as sns\n",
    "import skimage\n",
    "\n",
    "from dataset import BBBC039Segmentation"
   ]
  },
  {
   "cell_type": "code",
   "execution_count": null,
   "metadata": {},
   "outputs": [],
   "source": [
    "# Setup default plotting environment\n",
    "sns.set_style(\"whitegrid\")\n",
    "sns.set_context(\"paper\")\n",
    "mpl.rcParams[\"legend.frameon\"] = True\n",
    "mpl.rcParams[\"axes.grid\"] = True\n",
    "mpl.rcParams[\"grid.alpha\"] = 0.5\n",
    "mpl.rcParams[\"mathtext.fontset\"] = \"stix\"\n",
    "mpl.rcParams[\"font.family\"] = \"STIXGeneral\""
   ]
  },
  {
   "cell_type": "code",
   "execution_count": null,
   "metadata": {},
   "outputs": [],
   "source": [
    "# Load dataset and examples for preprocessing\n",
    "dataset = BBBC039Segmentation(\"./datasets/bbbc039\")\n",
    "image = np.array(Image.open(\"./examples/image.tif\"))\n",
    "label = np.array(Image.open(\"./examples/label.png\"))"
   ]
  },
  {
   "cell_type": "markdown",
   "metadata": {},
   "source": [
    "## 1. Visualising Original Examples\n"
   ]
  },
  {
   "cell_type": "code",
   "execution_count": null,
   "metadata": {},
   "outputs": [],
   "source": [
    "# Read in training images and labels\n",
    "images = (\n",
    "    [i for i in (dataset.images_dir / \"train\").iterdir() if i.name.endswith(\".tif\")]\n",
    "    + [i for i in (dataset.images_dir / \"val\").iterdir() if i.name.endswith(\".tif\")]\n",
    "    + [i for i in (dataset.images_dir / \"test\").iterdir() if i.name.endswith(\".tif\")]\n",
    ")\n",
    "labels = (\n",
    "    [i for i in (dataset.labels_dir / \"train\").iterdir() if i.name.endswith(\".png\")]\n",
    "    + [i for i in (dataset.labels_dir / \"val\").iterdir() if i.name.endswith(\".png\")]\n",
    "    + [i for i in (dataset.labels_dir / \"test\").iterdir() if i.name.endswith(\".png\")]\n",
    ")\n",
    "images = np.array([np.array(Image.open(i)) for i in sorted(images)])\n",
    "labels = np.array([np.array(Image.open(i)) for i in sorted(labels)])"
   ]
  },
  {
   "cell_type": "code",
   "execution_count": null,
   "metadata": {},
   "outputs": [],
   "source": [
    "# Visualise the images with the labels\n",
    "fig, axes = plt.subplots(nrows=2, ncols=5, figsize=(15, 6))\n",
    "for c in range(5):\n",
    "    axes[0, c].imshow(images[c])\n",
    "    axes[1, c].imshow(labels[c][:, :, 0], cmap=\"Purples\")\n",
    "    axes[0, c].grid(None), axes[0, c].set_xticks([]), axes[0, c].set_yticks([])\n",
    "    axes[1, c].grid(None), axes[1, c].set_xticks([]), axes[1, c].set_yticks([])\n",
    "axes[0, 0].set_ylabel(\"Image\", size=24)\n",
    "axes[1, 0].set_ylabel(\"Ground Truth\", size=24)\n",
    "plt.tight_layout()\n",
    "plt.show()"
   ]
  },
  {
   "cell_type": "markdown",
   "metadata": {},
   "source": [
    "## 2. Visualising Optimal Image Partition\n"
   ]
  },
  {
   "cell_type": "code",
   "execution_count": null,
   "metadata": {},
   "outputs": [],
   "source": [
    "# Image splitting is chosen to increase the number of training samples\n",
    "pixel_split = 232\n",
    "fig, axes = plt.subplots(nrows=2, ncols=5, figsize=(15, 4.5))\n",
    "for c in range(5):\n",
    "    axes[0, c].imshow(images[c])\n",
    "    axes[1, c].imshow(labels[c][:, :, 0], cmap=\"Purples\")\n",
    "    axes[0, c].grid(None), axes[0, c].set_xticks([]), axes[0, c].set_yticks([])\n",
    "    axes[1, c].grid(None), axes[1, c].set_xticks([]), axes[1, c].set_yticks([])\n",
    "    axes[0, c].vlines([pixel_split * 1, pixel_split * 2], ymin=0, ymax=520, color=\"r\")\n",
    "    axes[0, c].hlines([pixel_split * 1, pixel_split * 2], xmin=0, xmax=696, color=\"r\")\n",
    "    axes[1, c].vlines([pixel_split * 1, pixel_split * 2], ymin=0, ymax=520, color=\"r\")\n",
    "    axes[1, c].hlines([pixel_split * 1, pixel_split * 2], xmin=0, xmax=696, color=\"r\")\n",
    "axes[0, 0].set_ylabel(\"Image\", size=22)\n",
    "axes[1, 0].set_ylabel(\"Ground Truth\", size=22)\n",
    "plt.tight_layout()\n",
    "plt.show()"
   ]
  },
  {
   "cell_type": "code",
   "execution_count": null,
   "metadata": {},
   "outputs": [],
   "source": [
    "def split_array(array: npt.NDArray, row: int = 2, col: int = 3, pix: int = 232) -> list:\n",
    "    # Splice the array for the valid number of pixels to split\n",
    "    array = array[: pix * row, : pix * col]\n",
    "    # Perform vertical and horizontal splits\n",
    "    split_blocks = []\n",
    "    for rblock in np.hsplit(array, col):\n",
    "        for cblock in np.vsplit(rblock, row):\n",
    "            split_blocks.append(cblock)\n",
    "    return split_blocks\n",
    "\n",
    "\n",
    "# image_split = split_array(image, 2, 3, 232)[0]\n",
    "# label_split = split_array(label, 2, 3, 232)[0]\n",
    "image_split = image\n",
    "label_split = label"
   ]
  },
  {
   "cell_type": "code",
   "execution_count": null,
   "metadata": {},
   "outputs": [],
   "source": [
    "# Visualise a singular split\n",
    "fig, axes = plt.subplots(ncols=2, figsize=(6, 12))\n",
    "axes[0].imshow(image_split)\n",
    "axes[1].imshow(label_split[:, :, 0], cmap=\"Purples\")\n",
    "for ax in axes:\n",
    "    ax.grid(None), ax.set_xticks([]), ax.set_yticks([])\n",
    "axes[0].set_xlabel(\"Image\", size=18)\n",
    "axes[1].set_xlabel(\"Ground Truth\", size=18)\n",
    "plt.tight_layout()"
   ]
  },
  {
   "cell_type": "markdown",
   "metadata": {},
   "source": [
    "## 3. Convert Label Channels\n"
   ]
  },
  {
   "cell_type": "code",
   "execution_count": null,
   "metadata": {},
   "outputs": [],
   "source": [
    "min_size = 50\n",
    "dilations = 0\n",
    "label = label_split[:, :, 0]\n",
    "label_marked = skimage.morphology.label(label)\n",
    "label_thresh = skimage.morphology.remove_small_objects(label_marked, min_size=min_size)\n",
    "label_bounds = skimage.segmentation.find_boundaries(label_thresh)\n",
    "for _ in range(dilations):\n",
    "    label_bounds = skimage.morphology.binary_dilation(label_bounds)\n",
    "label = np.zeros((label.shape + (3,)))\n",
    "nucleus_cls, background_cls, boundary_cls = 0, 1, 2\n",
    "label[(label_thresh != 0) & (label_bounds == 0), nucleus_cls] = 1\n",
    "label[(label_thresh == 0) & (label_bounds == 0), background_cls] = 1\n",
    "label[label_bounds == 1, boundary_cls] = 1\n",
    "\n",
    "# Plot the preprocessing stages for convert channels\n",
    "_, (ax1, ax2, ax3, ax4) = plt.subplots(ncols=4, figsize=(15, 3))\n",
    "ax1.imshow(label_marked, aspect=\"auto\", cmap=\"Purples\")\n",
    "ax2.imshow(label_thresh, aspect=\"auto\", cmap=\"Purples\")\n",
    "ax3.imshow(label_bounds, aspect=\"auto\", cmap=\"Purples\")\n",
    "ax4.imshow(label, aspect=\"auto\", cmap=\"Purples\")\n",
    "for ax in (ax1, ax2, ax3, ax4):\n",
    "    ax.grid(None), ax.set_xticks([]), ax.set_yticks([])\n",
    "ax1.set_xlabel(\"Marked Nuclei\", size=21)\n",
    "ax2.set_xlabel(\"Threshold Micronuclei\", size=21)\n",
    "ax3.set_xlabel(\"Nuclei Boundaries\", size=21)\n",
    "ax4.set_xlabel(\"Augmented Channels\", size=21)\n",
    "plt.tight_layout()\n",
    "plt.show()"
   ]
  },
  {
   "cell_type": "markdown",
   "metadata": {},
   "source": [
    "## 4. Extract Bounding Box and Convex Hull\n"
   ]
  },
  {
   "cell_type": "code",
   "execution_count": null,
   "metadata": {},
   "outputs": [],
   "source": [
    "# Bounding boxes and hulls for all objects\n",
    "nuclei_label = label_thresh.copy().astype(np.uint8)\n",
    "_box = label_thresh.copy().astype(np.uint8)\n",
    "_con = [\n",
    "    label_thresh.copy().astype(np.uint8),\n",
    "    label_thresh.copy().astype(np.uint8),\n",
    "    label_thresh.copy().astype(np.uint8),\n",
    "]\n",
    "_cnts = [[], [], []]\n",
    "nuclei_count = label_thresh.max()\n",
    "for i in range(nuclei_count + 1):\n",
    "    nuclei_mask = ((label_thresh == i) * 1).astype(np.uint8)\n",
    "    cntr, _ = cv2.findContours(nuclei_mask, cv2.RETR_TREE, cv2.CHAIN_APPROX_SIMPLE)\n",
    "    x, y, w, h = cv2.boundingRect(cntr[0])\n",
    "    epsilon = 0.01 * cv2.arcLength(cntr[0], True)\n",
    "    con95 = cv2.approxPolyDP(cntr[0], 1.0, True)\n",
    "    con90 = cv2.approxPolyDP(cntr[0], 0.75, True)\n",
    "    con85 = cv2.approxPolyDP(cntr[0], 0.5, True)\n",
    "    _con[0] = cv2.drawContours(_con[0], [con95], -1, (50, 50, 50), 2)\n",
    "    _con[1] = cv2.drawContours(_con[1], [con90], -1, (50, 50, 50), 2)\n",
    "    _con[2] = cv2.drawContours(_con[2], [con85], -1, (50, 50, 50), 2)\n",
    "    _box = cv2.rectangle(_box, (x, y), (x + w, y + h), (50, 50, 50), 1)\n",
    "    _cnts[0].append(len(con95))\n",
    "    _cnts[1].append(len(con90))\n",
    "    _cnts[2].append(len(con85))\n",
    "\n",
    "# Plot the resulting changes\n",
    "_, (ax1, ax2, ax3, ax4, ax5) = plt.subplots(ncols=5, figsize=(18, 3))\n",
    "ax1.imshow(nuclei_label, aspect=\"auto\", cmap=\"Purples\")\n",
    "ax2.imshow(_box, aspect=\"auto\", cmap=\"Purples\")\n",
    "ax3.imshow(_con[0], aspect=\"auto\", cmap=\"Purples\")\n",
    "ax4.imshow(_con[1], aspect=\"auto\", cmap=\"Purples\")\n",
    "ax5.imshow(_con[2], aspect=\"auto\", cmap=\"Purples\")\n",
    "for ax in (ax1, ax2, ax3, ax4, ax5):\n",
    "    ax.grid(None), ax.set_xticks([]), ax.set_yticks([])\n",
    "ax1.set_xlabel(\"Nuclei Labels\", size=18)\n",
    "ax2.set_xlabel(\"Bounding Box\", size=18)\n",
    "ax3.set_xlabel(f\"Convex ($\\\\epsilon=1.0$, $\\\\mu=${int(np.mean(_cnts[0]))})\", size=22)\n",
    "ax4.set_xlabel(f\"Convex ($\\\\epsilon=0.75$, $\\\\mu=${int(np.mean(_cnts[1]))})\", size=22)\n",
    "ax5.set_xlabel(f\"Convex ($\\\\epsilon=0.5$, $\\\\mu=${int(np.mean(_cnts[2]))})\", size=22)\n",
    "plt.tight_layout()\n",
    "plt.show()"
   ]
  },
  {
   "cell_type": "markdown",
   "metadata": {},
   "source": [
    "## 5. Merged Preprocess Pipeline\n"
   ]
  },
  {
   "cell_type": "code",
   "execution_count": null,
   "metadata": {},
   "outputs": [],
   "source": [
    "split_r: int = 2\n",
    "split_c: int = 3\n",
    "split_p: int = 232\n",
    "min_size = 50\n",
    "dilations = 0\n",
    "nucleus_cls, background_cls, boundary_cls = 0, 1, 2\n",
    "eps = 0.75\n",
    "\n",
    "\n",
    "def _preprocess(image_path: Path, label_path: Path):\n",
    "    def split(array: npt.NDArray, rows: int, cols: int, pixels: int) -> list:\n",
    "        blocks = []\n",
    "        for rblock in np.hsplit(array[: pixels * rows, : pixels * cols], cols):\n",
    "            for cblock in np.vsplit(rblock, rows):\n",
    "                blocks.append(cblock)\n",
    "        return blocks\n",
    "\n",
    "    image = np.array(Image.open(image_path))\n",
    "    label = np.array(Image.open(label_path))\n",
    "    images = split(image, split_r, split_c, split_p)\n",
    "    labels = split(label, split_r, split_c, split_p)\n",
    "    images_out = images\n",
    "    labels_out = []\n",
    "    for idx, image in enumerate(images):\n",
    "        Image.fromarray(image).save(f\"{idx}.tif\")\n",
    "    for idx, label in enumerate(labels):\n",
    "        # Construct 3-channel output class\n",
    "        label_ = skimage.morphology.label(label[:, :, 0])\n",
    "        label_ = skimage.morphology.remove_small_objects(label_, min_size=min_size)\n",
    "        label_bounds = skimage.segmentation.find_boundaries(label_thresh)\n",
    "        for _ in range(dilations):\n",
    "            label_bounds = skimage.morphology.binary_dilation(label_bounds)\n",
    "        label = np.zeros((label_.shape + (3,)))\n",
    "        label[(label_ != 0) & (label_bounds == 0), nucleus_cls] = 1\n",
    "        label[(label_ == 0) & (label_bounds == 0), background_cls] = 1\n",
    "        label[label_bounds == 1, boundary_cls] = 1\n",
    "        # Extract the bounding box and convex hull\n",
    "        boxes, hulls = [], []\n",
    "        num_objects = label_.max()\n",
    "        for i in range(1, num_objects + 1):\n",
    "            mask = ((label_ == i) * 1).astype(np.uint8)\n",
    "            cntr, _ = cv2.findContours(mask, cv2.RETR_TREE, cv2.CHAIN_APPROX_SIMPLE)\n",
    "            if len(cntr) == 0:\n",
    "                continue\n",
    "            x, y, w, h = cv2.boundingRect(cntr[0])\n",
    "            boxes.append(((x, y), (x + w, y), (x + w, y + h), (x, y + h)))\n",
    "            hulls.append([tuple(i[0]) for i in cv2.approxPolyDP(cntr[0], eps, True)])\n",
    "        labels_out.append((label, boxes, hulls))\n",
    "        # Write label files\n",
    "        with open(label_path.with_suffix(f\".{idx}.detection.txt\"), \"w\") as f:\n",
    "            for box in boxes:\n",
    "                f.write(f\"{nucleus_cls} \")\n",
    "                for x, y in box:\n",
    "                    f.write(f\" {x / 232} {y / 232}\")\n",
    "                f.write(\"\\n\")\n",
    "        with open(label_path.with_suffix(f\".{idx}.segmentation.txt\"), \"w\") as f:\n",
    "            for hull in hulls:\n",
    "                f.write(f\"{nucleus_cls} \")\n",
    "                for x, y in hull:\n",
    "                    f.write(f\" {x / 232} {y / 232}\")\n",
    "                f.write(\"\\n\")\n",
    "        Image.fromarray(label).save(label_path.with_suffix(f\"{idx}.png\"))"
   ]
  }
 ],
 "metadata": {
  "kernelspec": {
   "display_name": "COMP3419",
   "language": "python",
   "name": "python3"
  },
  "language_info": {
   "codemirror_mode": {
    "name": "ipython",
    "version": 3
   },
   "file_extension": ".py",
   "mimetype": "text/x-python",
   "name": "python",
   "nbconvert_exporter": "python",
   "pygments_lexer": "ipython3",
   "version": "3.11.0"
  }
 },
 "nbformat": 4,
 "nbformat_minor": 2
}
